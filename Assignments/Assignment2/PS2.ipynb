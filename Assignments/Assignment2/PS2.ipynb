{
 "cells": [
  {
   "cell_type": "code",
   "execution_count": 247,
   "metadata": {},
   "outputs": [],
   "source": [
    "import numpy as np\n",
    "import matplotlib.pyplot as plt\n",
    "%matplotlib inline\n",
    "from scipy import stats\n",
    "import pandas as pd\n",
    "from scipy.stats import lognorm\n",
    "from scipy.stats import norm"
   ]
  },
  {
   "cell_type": "markdown",
   "metadata": {},
   "source": [
    "## Question 1"
   ]
  },
  {
   "cell_type": "code",
   "execution_count": 248,
   "metadata": {},
   "outputs": [],
   "source": [
    "#LCG function to create U(0,1) random variables\n",
    "########################\n",
    "#Inputs:\n",
    "#n - number of RVs to create\n",
    "#z0 - seed\n",
    "#m- modulus\n",
    "#a-multiplier\n",
    "#c-constant additive term\n",
    "#Outputs:\n",
    "#array of n rows containing (U,z)\n",
    "\n",
    "def LCG(n, z0, m, a, c):\n",
    "    i=0\n",
    "    u=0\n",
    "    out=np.empty([n, 2])\n",
    "    z=z0\n",
    "    while i<=n-1:\n",
    "        z=(a*z+c)%m\n",
    "        out[i]=[z/m,z]\n",
    "        i+=1\n",
    "    return out\n",
    "        \n",
    "        \n",
    "    \n"
   ]
  },
  {
   "cell_type": "code",
   "execution_count": 249,
   "metadata": {},
   "outputs": [],
   "source": [
    "########################\n",
    "#Uniform Random number generator on a specified interval\n",
    "###############################\n",
    "#Input\n",
    "#U - a float betweek (0,1)\n",
    "#a,b - bounds of interval\n",
    "#Output:\n",
    "# x - uniform RV on (a,b)  \n",
    "def UniformAB(U, a, b):\n",
    "    x=(b-a)*U+a\n",
    "    return x"
   ]
  },
  {
   "cell_type": "code",
   "execution_count": 250,
   "metadata": {},
   "outputs": [],
   "source": [
    "#Initialise LCG\n",
    "z0=568\n",
    "m=4096\n",
    "a=3649\n",
    "c=1581\n",
    "\n"
   ]
  },
  {
   "cell_type": "code",
   "execution_count": 251,
   "metadata": {},
   "outputs": [],
   "source": [
    "##################################\n",
    "#Generate an ECDF from data\n",
    "############################\n",
    "#Input: data array\n",
    "#Output: ECDF array\n",
    "def generateECDF(data):\n",
    "    dataSort=np.sort(data, axis=None)\n",
    "    n=len(data)\n",
    "    ECDF=np.empty(n)\n",
    "    for i in range(len(dataSort)):\n",
    "        x=(1/n)*(i+1)\n",
    "        ECDF[i]=x\n",
    "        i+=1\n",
    "    return ECDF"
   ]
  },
  {
   "cell_type": "code",
   "execution_count": 252,
   "metadata": {},
   "outputs": [
    {
     "data": {
      "image/png": "[encoded data removed]",
      "text/plain": [
       "<Figure size 576x288 with 2 Axes>"
      ]
     },
     "metadata": {
      "needs_background": "light"
     },
     "output_type": "display_data"
    }
   ],
   "source": [
    "\n",
    "\n",
    "######\n",
    "#Generating RV by acceptance rejection on given f\n",
    "############\n",
    "ntotal=100\n",
    "z=z0\n",
    "A=3\n",
    "B=11\n",
    "K=35/202\n",
    "\n",
    "reps=2\n",
    "out=np.empty((reps, ntotal))\n",
    "\n",
    "def f(x):\n",
    "    if x>=3 and x<6:\n",
    "        y=(-x+26)/202\n",
    "    if x>=6:\n",
    "        y=(3*x+2)/202\n",
    "    return y\n",
    "\n",
    "\n",
    "\n",
    "for r in range(reps):\n",
    "    for i in range(ntotal):\n",
    "        accept=0\n",
    "        x=0\n",
    "        while accept==0:\n",
    "            LCGData=LCG(1, z, m, a, c)\n",
    "            U1=LCGData[:,0]\n",
    "            z=LCGData[:,1]\n",
    "            U1=UniformAB(U1,A,B)\n",
    "            LCGData=LCG(1, z, m, a, c)\n",
    "            U2=LCGData[:,0]\n",
    "            z=LCGData[:,1]\n",
    "            U2=UniformAB(U2,0,K)\n",
    "            if U2<=f(U1):\n",
    "                accept=1\n",
    "                x=U1\n",
    "        out[r,i]=x\n",
    "        \n",
    "#f=lambda x: (1/(2*np.pi)+np.sin(x)/(4*np.pi))\n",
    "\n",
    "fig=plt.figure(figsize=(8, 4))\n",
    "for r in range(reps):\n",
    "    ax=fig.add_subplot(1, reps, r+1)\n",
    "    ax=plt.hist(out[r, :], bins=4)\n",
    "    plt.xlabel('x')\n",
    "    plt.ylabel('count')\n",
    "plt.suptitle('Two distrubutions generated by acceptance rejection')\n",
    "plt.savefig('Q1.eps')\n",
    "    "
   ]
  },
  {
   "cell_type": "markdown",
   "metadata": {},
   "source": [
    "## Question 2"
   ]
  },
  {
   "cell_type": "code",
   "execution_count": 36,
   "metadata": {},
   "outputs": [
    {
     "data": {
      "text/html": [
       "<div>\n",
       "<style scoped>\n",
       "    .dataframe tbody tr th:only-of-type {\n",
       "        vertical-align: middle;\n",
       "    }\n",
       "\n",
       "    .dataframe tbody tr th {\n",
       "        vertical-align: top;\n",
       "    }\n",
       "\n",
       "    .dataframe thead th {\n",
       "        text-align: right;\n",
       "    }\n",
       "</style>\n",
       "<table border=\"1\" class=\"dataframe\">\n",
       "  <thead>\n",
       "    <tr style=\"text-align: right;\">\n",
       "      <th></th>\n",
       "      <th>0</th>\n",
       "    </tr>\n",
       "  </thead>\n",
       "  <tbody>\n",
       "    <tr>\n",
       "      <th>0</th>\n",
       "      <td>6.895146</td>\n",
       "    </tr>\n",
       "    <tr>\n",
       "      <th>1</th>\n",
       "      <td>6.656261</td>\n",
       "    </tr>\n",
       "    <tr>\n",
       "      <th>2</th>\n",
       "      <td>8.309991</td>\n",
       "    </tr>\n",
       "    <tr>\n",
       "      <th>3</th>\n",
       "      <td>14.654556</td>\n",
       "    </tr>\n",
       "    <tr>\n",
       "      <th>4</th>\n",
       "      <td>6.705821</td>\n",
       "    </tr>\n",
       "  </tbody>\n",
       "</table>\n",
       "</div>"
      ],
      "text/plain": [
       "           0\n",
       "0   6.895146\n",
       "1   6.656261\n",
       "2   8.309991\n",
       "3  14.654556\n",
       "4   6.705821"
      ]
     },
     "execution_count": 36,
     "metadata": {},
     "output_type": "execute_result"
    }
   ],
   "source": [
    "data=pd.read_csv('PS2Data2018.csv', sep=',', header=None)\n",
    "data.head(5)"
   ]
  },
  {
   "cell_type": "code",
   "execution_count": 287,
   "metadata": {},
   "outputs": [
    {
     "data": {
      "image/png": "[encoded data removed]",
      "text/plain": [
       "<Figure size 360x288 with 1 Axes>"
      ]
     },
     "metadata": {
      "needs_background": "light"
     },
     "output_type": "display_data"
    }
   ],
   "source": [
    "#Plotting the histogram of x and lognormal distribution\n",
    "x=np.arange(0,22)\n",
    "fig=plt.figure(figsize=(5,4))\n",
    "plt.hist(data.iloc[:, 0], bins=10, label='Data')\n",
    "plt.plot(x, 205*lognorm.pdf(x, s=0.461, scale=np.exp(2.02)), 'r-', lw=5, alpha=0.6, label='lognorm')\n",
    "plt.legend()\n",
    "plt.savefig('Q2.eps')\n",
    "\n",
    "\n",
    "\n"
   ]
  },
  {
   "cell_type": "code",
   "execution_count": 312,
   "metadata": {},
   "outputs": [
    {
     "data": {
      "text/plain": [
       "'mean: 2.0232479957494762'"
      ]
     },
     "metadata": {},
     "output_type": "display_data"
    },
    {
     "data": {
      "text/plain": [
       "'sd: 0.4607002361170655'"
      ]
     },
     "metadata": {},
     "output_type": "display_data"
    },
    {
     "data": {
      "image/png": "[encoded data removed]",
      "text/plain": [
       "<Figure size 432x288 with 1 Axes>"
      ]
     },
     "metadata": {
      "needs_background": "light"
     },
     "output_type": "display_data"
    }
   ],
   "source": [
    "#Log transform the data\n",
    "\n",
    "\n",
    "Y=np.log(data.iloc[:,0])\n",
    "\n",
    "#Compute parameters\n",
    "mu=np.mean(Y)\n",
    "sigma=np.std(Y, ddof=1)\n",
    "display('mean: '+str(np.mean(Y)))\n",
    "display('sd: '+ str(np.std(Y)))\n",
    "\n",
    "\n",
    "#Plot histogram\n",
    "plt.hist(Y, bins=6)\n",
    "plt.title('Histogram of log-transformed X')\n",
    "plt.savefig('Q2b.eps')"
   ]
  },
  {
   "cell_type": "code",
   "execution_count": 294,
   "metadata": {},
   "outputs": [
    {
     "data": {
      "text/plain": [
       "(array([ 8., 16., 25., 27., 19.,  5.]),\n",
       " array([0.9356135 , 1.29703549, 1.65845747, 2.01987946, 2.38130144,\n",
       "        2.74272343, 3.10414541]),\n",
       " <a list of 6 Patch objects>)"
      ]
     },
     "execution_count": 294,
     "metadata": {},
     "output_type": "execute_result"
    }
   ],
   "source": [
    "O"
   ]
  },
  {
   "cell_type": "markdown",
   "metadata": {},
   "source": [
    "## Chi^2 test"
   ]
  },
  {
   "cell_type": "code",
   "execution_count": 315,
   "metadata": {},
   "outputs": [
    {
     "data": {
      "text/plain": [
       "'chi2, df:(2.969724324675645, 3)'"
      ]
     },
     "metadata": {},
     "output_type": "display_data"
    },
    {
     "data": {
      "text/plain": [
       "'chi2 at 0.05 = 7.815'"
      ]
     },
     "metadata": {},
     "output_type": "display_data"
    },
    {
     "data": {
      "image/png": "[encoded data removed]",
      "text/plain": [
       "<Figure size 432x288 with 1 Axes>"
      ]
     },
     "metadata": {
      "needs_background": "light"
     },
     "output_type": "display_data"
    }
   ],
   "source": [
    "k=6  #Number of bins\n",
    "#Generate the bin counts for oberved\n",
    "O=plt.hist(Y, bins=int(k))\n",
    "\n",
    "y_min, y_max=np.min(Y), np.max(Y)\n",
    "\n",
    "#Initialise array for Expected\n",
    "E=np.empty(int(k))\n",
    "x=y_min\n",
    "binwidth=(y_max-y_min)/k\n",
    "#Iterate through bins of width binwidth\n",
    "for i in range(int(k)):\n",
    "    E[i]=100*(norm.cdf(x+binwidth, loc=mu, scale=sigma)-norm.cdf(x, loc=mu, scale=sigma))  #Compute n*p\n",
    "    x=x+binwidth\n",
    "chi2=np.sum(np.divide(((O[0]-E)**2),E))\n",
    "\n",
    "df=k-1-2\n",
    "display('chi2, df:'+str((chi2, df)))\n",
    "display('chi2 at 0.05 = 7.815')"
   ]
  },
  {
   "cell_type": "markdown",
   "metadata": {},
   "source": [
    "## KS Test"
   ]
  },
  {
   "cell_type": "code",
   "execution_count": 316,
   "metadata": {},
   "outputs": [
    {
     "data": {
      "text/plain": [
       "'D=0.05171714338495775'"
      ]
     },
     "metadata": {},
     "output_type": "display_data"
    },
    {
     "data": {
      "text/plain": [
       "'KS test statistic=0.52'"
      ]
     },
     "metadata": {},
     "output_type": "display_data"
    },
    {
     "data": {
      "text/plain": [
       "'D crit:'"
      ]
     },
     "metadata": {},
     "output_type": "display_data"
    },
    {
     "data": {
      "text/plain": [
       "0.19233304448274094"
      ]
     },
     "metadata": {},
     "output_type": "display_data"
    }
   ],
   "source": [
    "# KS Test\n",
    "#Generate an ECDF for the data\n",
    "ECDFData=generateECDF(Y)\n",
    "ECDFData=ECDFData.reshape(100,1)\n",
    "Y_sort=np.sort(Y.values)\n",
    "#Compute the distance variables of |Fn(x)-F(x)|\n",
    "\n",
    "DMinus=np.empty(100)\n",
    "DPlus=np.empty(100)\n",
    "for i in range(100):\n",
    "    if i==0:\n",
    "        DMinus[i]=(i+1)/100\n",
    "    else:\n",
    "        DMinus[i]=np.abs((i)/100-norm.cdf(Y_sort[i], loc=mu, scale=sigma)) #Absolute value for magnitude of distance\n",
    "    DPlus[i]=np.abs(norm.cdf(Y_sort[i], loc=mu, scale=sigma)-(i+1)/100)\n",
    "\n",
    "DMinus=DMinus.reshape(100,1)\n",
    "        \n",
    "DPlus=DPlus.reshape(100,1)\n",
    "\n",
    "#Combine D+, D- into an array\n",
    "D=np.concatenate((DPlus, DMinus), axis=1)\n",
    "\n",
    "#Find maximum of D\n",
    "DMax=np.max(D)\n",
    "display('D='+str(DMax))\n",
    "\n",
    "#Compute test statistic from DMax\n",
    "KSStat=round((np.sqrt(len(Y))+0.12+0.11/np.sqrt(len(Y)))*DMax, 2)\n",
    "display('KS test statistic='+str(KSStat))\n",
    "display('D crit:' ,1.36/np.sqrt(50))\n"
   ]
  },
  {
   "cell_type": "code",
   "execution_count": 317,
   "metadata": {},
   "outputs": [
    {
     "data": {
      "image/png": "[encoded data removed]",
      "text/plain": [
       "<Figure size 432x288 with 1 Axes>"
      ]
     },
     "metadata": {
      "needs_background": "light"
     },
     "output_type": "display_data"
    }
   ],
   "source": [
    "#Plot CDF\n",
    "\n",
    "plt.plot(Y_sort, ECDFData, '.',label='Empirical' )\n",
    "plt.plot(Y_sort, norm.cdf(Y_sort, mu, sigma), label='N(2.02, 0.46)')\n",
    "plt.legend()\n",
    "plt.ylabel('Cumulative probability')\n",
    "plt.title('CDFs')\n",
    "plt.savefig('Q2b_cdfs.eps')"
   ]
  },
  {
   "cell_type": "markdown",
   "metadata": {},
   "source": [
    "## Q4"
   ]
  },
  {
   "cell_type": "code",
   "execution_count": 306,
   "metadata": {},
   "outputs": [
    {
     "data": {
      "text/plain": [
       "0     14.753682\n",
       "1     14.557172\n",
       "2     13.288238\n",
       "3     17.768373\n",
       "4     13.940708\n",
       "5     15.655738\n",
       "6     14.929498\n",
       "7     14.569267\n",
       "8     12.236390\n",
       "9     14.956773\n",
       "10    12.553065\n",
       "11    15.285912\n",
       "12    13.150169\n",
       "13    14.791562\n",
       "14    15.292317\n",
       "15    12.455574\n",
       "16    16.799275\n",
       "17    15.163891\n",
       "18    12.764737\n",
       "19    11.655882\n",
       "20    14.839958\n",
       "21    12.781412\n",
       "22    13.313719\n",
       "23    15.620318\n",
       "24    14.644385\n",
       "25    15.842971\n",
       "26    14.176126\n",
       "27    12.754019\n",
       "28    15.247720\n",
       "29    11.333558\n",
       "        ...    \n",
       "70    13.589001\n",
       "71    14.038922\n",
       "72    12.861236\n",
       "73    14.481218\n",
       "74    15.315151\n",
       "75    13.656520\n",
       "76    11.424115\n",
       "77    14.377414\n",
       "78    15.267581\n",
       "79    11.364257\n",
       "80    14.481791\n",
       "81    13.136415\n",
       "82    13.894241\n",
       "83    16.431418\n",
       "84    10.347356\n",
       "85    17.177906\n",
       "86    14.682347\n",
       "87    16.898636\n",
       "88    17.886521\n",
       "89    15.084363\n",
       "90    10.579500\n",
       "91    15.865151\n",
       "92    14.236092\n",
       "93    17.394396\n",
       "94    11.306292\n",
       "95    13.387777\n",
       "96    13.201110\n",
       "97    18.239832\n",
       "98    17.520486\n",
       "99    10.214801\n",
       "Name: 0, Length: 100, dtype: float64"
      ]
     },
     "execution_count": 306,
     "metadata": {},
     "output_type": "execute_result"
    }
   ],
   "source": [
    "#Import CompletionTimes generated by Arena\n",
    "SimData=pd.read_csv('CompletionTimes.txt', sep=' ', header=None)\n",
    "SimData=SimData.iloc[:,0]\n",
    "SimData"
   ]
  },
  {
   "cell_type": "code",
   "execution_count": 311,
   "metadata": {},
   "outputs": [
    {
     "data": {
      "text/plain": [
       "0.34"
      ]
     },
     "execution_count": 311,
     "metadata": {},
     "output_type": "execute_result"
    }
   ],
   "source": [
    "prop=np.sum(SimData>15)/len(SimData)\n",
    "prop"
   ]
  }
 ],
 "metadata": {
  "kernelspec": {
   "display_name": "Python 3",
   "language": "python",
   "name": "python3"
  },
  "language_info": {
   "codemirror_mode": {
    "name": "ipython",
    "version": 3
   },
   "file_extension": ".py",
   "mimetype": "text/x-python",
   "name": "python",
   "nbconvert_exporter": "python",
   "pygments_lexer": "ipython3",
   "version": "3.7.0"
  }
 },
 "nbformat": 4,
 "nbformat_minor": 2
}
